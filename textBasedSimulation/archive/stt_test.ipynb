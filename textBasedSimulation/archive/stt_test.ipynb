{
 "cells": [
  {
   "cell_type": "code",
   "execution_count": 2,
   "metadata": {},
   "outputs": [
    {
     "data": {
      "text/plain": [
       "True"
      ]
     },
     "execution_count": 2,
     "metadata": {},
     "output_type": "execute_result"
    }
   ],
   "source": [
    "from deepgram import Deepgram\n",
    "import asyncio, json, sys\n",
    "from dotenv import load_dotenv\n",
    "import os\n",
    "\n",
    "load_dotenv()"
   ]
  },
  {
   "cell_type": "code",
   "execution_count": 19,
   "metadata": {},
   "outputs": [],
   "source": [
    "DEEPGRAM_API_KEY = os.environ.get(\"DEEPGRAM_API_KEY\")"
   ]
  },
  {
   "cell_type": "code",
   "execution_count": 12,
   "metadata": {},
   "outputs": [
    {
     "name": "stdout",
     "output_type": "stream",
     "text": [
      "recorded_speech.wav\n"
     ]
    }
   ],
   "source": [
    "!ls speech"
   ]
  },
  {
   "cell_type": "code",
   "execution_count": 16,
   "metadata": {},
   "outputs": [],
   "source": [
    "FILE = 'speech/recorded_speech.wav'\n",
    "\n",
    "# if os.path.isfile(file_path):\n",
    "#     print(f'The file {file_path} is a regular file.')\n",
    "# else:\n",
    "#     print(f'The file {file_path} is not a regular file or does not exist.')\n",
    "    \n",
    "MIMETYPE = 'audio/wav'"
   ]
  },
  {
   "cell_type": "code",
   "execution_count": 17,
   "metadata": {},
   "outputs": [],
   "source": [
    "async def main():\n",
    "\n",
    "  # Initialize the Deepgram SDK\n",
    "  deepgram = Deepgram(DEEPGRAM_API_KEY)\n",
    "\n",
    "  # Check whether requested file is local or remote, and prepare source\n",
    "  if FILE.startswith('http'):\n",
    "    # file is remote\n",
    "    # Set the source\n",
    "    source = {\n",
    "      'url': FILE\n",
    "    }\n",
    "  else:\n",
    "    # file is local\n",
    "    # Open the audio file\n",
    "    audio = open(FILE, 'rb')\n",
    "\n",
    "    # Set the source\n",
    "    source = {\n",
    "      'buffer': audio,\n",
    "      'mimetype': MIMETYPE\n",
    "    }\n",
    "\n",
    "  # Send the audio to Deepgram and get the response\n",
    "  response = await asyncio.create_task(\n",
    "    deepgram.transcription.prerecorded(\n",
    "      source,\n",
    "      {\n",
    "        'punctuate': True,\n",
    "        'model': 'nova',\n",
    "      }\n",
    "    )\n",
    "  )\n",
    "\n",
    "  # Write the response to the console\n",
    "  print(json.dumps(response, indent=4))\n",
    "\n",
    "  # Write only the transcript to the console\n",
    "  #print(response[\"results\"][\"channels\"][0][\"alternatives\"][0][\"transcript\"])\n"
   ]
  },
  {
   "cell_type": "code",
   "execution_count": 18,
   "metadata": {},
   "outputs": [
    {
     "name": "stdout",
     "output_type": "stream",
     "text": [
      "line 4: <class 'RuntimeError'> - asyncio.run() cannot be called from a running event loop\n"
     ]
    }
   ],
   "source": [
    "try:\n",
    "    # If running in a Jupyter notebook, Jupyter is already running an event loop, so run main with this line instead:\n",
    "    # await main()\n",
    "    asyncio.run(main())\n",
    "except Exception as e:\n",
    "    exception_type, exception_object, exception_traceback = sys.exc_info()\n",
    "    line_number = exception_traceback.tb_lineno\n",
    "    print(f'line {line_number}: {exception_type} - {e}')"
   ]
  },
  {
   "cell_type": "code",
   "execution_count": 21,
   "metadata": {},
   "outputs": [
    {
     "data": {
      "text/plain": [
       "'Oh, hello.'"
      ]
     },
     "execution_count": 21,
     "metadata": {},
     "output_type": "execute_result"
    }
   ],
   "source": [
    "response_data = {\n",
    "    \"metadata\": {\n",
    "        \"transaction_key\": \"deprecated\",\n",
    "        \"request_id\": \"a3692e80-220a-4ac7-9643-f37d2113473a\",\n",
    "        \"sha256\": \"610172f65b2806d069d366b3b223df3e0927a85cdf7126c484b3dfa840934fa1\",\n",
    "        \"created\": \"2024-01-31T22:36:30.695Z\",\n",
    "        \"duration\": 4.5,\n",
    "        \"channels\": 1,\n",
    "        \"models\": [\n",
    "            \"aa274f3c-e8b3-456a-ac08-dfd797d45514\"\n",
    "        ],\n",
    "        \"model_info\": {\n",
    "            \"aa274f3c-e8b3-456a-ac08-dfd797d45514\": {\n",
    "                \"name\": \"general-nova\",\n",
    "                \"version\": \"2023-07-06.22746\",\n",
    "                \"arch\": \"nova\"\n",
    "            }\n",
    "        }\n",
    "    },\n",
    "    \"results\": {\n",
    "        \"channels\": [\n",
    "            {\n",
    "                \"alternatives\": [\n",
    "                    {\n",
    "                        \"transcript\": \"Oh, hello.\",\n",
    "                        \"confidence\": 0.84106445,\n",
    "                        \"words\": [\n",
    "                            {\n",
    "                                \"word\": \"oh\",\n",
    "                                \"start\": 0.48,\n",
    "                                \"end\": 0.56,\n",
    "                                \"confidence\": 0.68078613,\n",
    "                                \"punctuated_word\": \"Oh,\"\n",
    "                            },\n",
    "                            {\n",
    "                                \"word\": \"hello\",\n",
    "                                \"start\": 0.56,\n",
    "                                \"end\": 1.06,\n",
    "                                \"confidence\": 0.84106445,\n",
    "                                \"punctuated_word\": \"hello.\"\n",
    "                            }\n",
    "                        ]\n",
    "                    }\n",
    "                ]\n",
    "            }\n",
    "        ]\n",
    "    }\n",
    "}\n",
    "\n",
    "\n",
    "\n",
    "\n",
    "transcript = response_data.get(\"results\", {}).get(\"channels\", [{}])[0].get(\"alternatives\", [{}])[0].get(\"transcript\", \"\")\n",
    "transcript"
   ]
  },
  {
   "cell_type": "code",
   "execution_count": null,
   "metadata": {},
   "outputs": [],
   "source": []
  }
 ],
 "metadata": {
  "kernelspec": {
   "display_name": "aac",
   "language": "python",
   "name": "python3"
  },
  "language_info": {
   "codemirror_mode": {
    "name": "ipython",
    "version": 3
   },
   "file_extension": ".py",
   "mimetype": "text/x-python",
   "name": "python",
   "nbconvert_exporter": "python",
   "pygments_lexer": "ipython3",
   "version": "3.9.18"
  }
 },
 "nbformat": 4,
 "nbformat_minor": 2
}
