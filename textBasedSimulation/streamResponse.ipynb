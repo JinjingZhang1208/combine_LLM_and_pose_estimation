{
 "cells": [
  {
   "cell_type": "code",
   "execution_count": null,
   "metadata": {},
   "outputs": [],
   "source": [
    "import os\n",
    "import openai\n",
    "from dotenv import load_dotenv\n",
    "\n",
    "load_dotenv()\n",
    "\n",
    "GPT4='gpt-4'\n",
    "GPT35='gpt-3.5-turbo'\n",
    "API_KEY=os.environ.get('API_KEY') \n",
    "openai.api_key=API_KEY\n",
    "\n"
   ]
  },
  {
   "cell_type": "code",
   "execution_count": null,
   "metadata": {},
   "outputs": [],
   "source": [
    "def testSamplePrompt():\n",
    "    response=openai.ChatCompletion.create(\n",
    "        model=GPT35,\n",
    "        messages=[{\n",
    "            \"role\":\"user\",\n",
    "            \"content\":\"Generate a list of numbers from 1 to 50\"\n",
    "        }],\n",
    "        stream=True\n",
    "    )\n",
    "    return response\n",
    "resp=testSamplePrompt()\n",
    "for res in resp:\n",
    "    try:\n",
    "        content=res[\"choices\"][0][\"delta\"][\"content\"]\n",
    "        print(content,end='')\n",
    "    except:\n",
    "        break\n",
    " "
   ]
  },
  {
   "cell_type": "code",
   "execution_count": 12,
   "metadata": {},
   "outputs": [],
   "source": [
    "import time\n",
    "import os\n",
    "from retrievalFunction import retrievalFunction\n",
    "from responseGenerator import (\n",
    "    generateInitialObservations,\n",
    "    generateObservations,\n",
    "    generateConversation,\n",
    ")\n",
    "from textBasedSimulation import startConversation,getBaseDescription,updateBaseDescription\n",
    "\n",
    "\n",
    "from concurrent.futures import ThreadPoolExecutor\n",
    "from collections import deque\n",
    "from dotenv import load_dotenv\n",
    "from pymongo.mongo_client import MongoClient\n",
    "load_dotenv()\n",
    "\n",
    "# Constants\n",
    "DATABASE_NAME = \"LLMDatabase\"\n",
    "DATABASE_URL = os.environ.get(\"DATABASE_URL\")\n",
    "COLLECTION_USERS = \"Users\"\n",
    "COLLECTION_MEMORY_OBJECTS = \"MemoryObjects\"\n",
    "\n",
    "# Basic objects for the Database.\n",
    "client = MongoClient(DATABASE_URL)\n",
    "LLMdatabase = client[DATABASE_NAME]\n",
    "userCollection = LLMdatabase[COLLECTION_USERS]\n",
    "memoryObjectCollection = LLMdatabase[COLLECTION_MEMORY_OBJECTS]\n"
   ]
  },
  {
   "cell_type": "code",
   "execution_count": 14,
   "metadata": {},
   "outputs": [
    {
     "name": "stdout",
     "output_type": "stream",
     "text": [
      "Time taken for the observation generation by GPT : 4.51 \n",
      "User created successfully!\n",
      " :\n",
      "Sure, I'll do my best to respond as {userName} and provide user-friendly and appropriate responses. Please let me know the details of the conversation context and any specific instructions you have.\n",
      "Time taken for the conversation generation by GPT : 1.86\n"
     ]
    }
   ],
   "source": [
    "if __name__ == \"__main__\":\n",
    "    pastObservations = deque()\n",
    "    # Get username.\n",
    "    userName = input(\"Please enter the username of character: \")\n",
    "\n",
    "    # Check for existing user.\n",
    "    existingUser = userCollection.find_one({\"Username\": userName})\n",
    "\n",
    "    if existingUser:\n",
    "        print(f\"Welcome back! {userName} \\nContinue where you left off\")\n",
    "    else:\n",
    "        # Collect the description details.\n",
    "        description = getBaseDescription()\n",
    "\n",
    "        # Insert the userData to the Users collection.\n",
    "        userData = {\"Username\": userName, \"Description\": description}\n",
    "        userCollection.insert_one(userData)\n",
    "\n",
    "        # Time the function call and fetch the results.\n",
    "        startTime = time.time()\n",
    "        observationList = generateInitialObservations(userName, description).split(\"\\n\")\n",
    "        endTime = time.time()\n",
    "        print(\n",
    "            f\"Time taken for the observation generation by GPT : {endTime-startTime:.2f} \"\n",
    "        )\n",
    "\n",
    "        # Generate the memory object data and push it to the memory objects collection.\n",
    "        updateBaseDescription(userName, observationList)\n",
    "        print(\"User created successfully!\")\n",
    "\n",
    "    startConversation(userName)\n",
    "    client.close()\n"
   ]
  }
 ],
 "metadata": {
  "kernelspec": {
   "display_name": "abdulaziz_llm",
   "language": "python",
   "name": "python3"
  },
  "language_info": {
   "codemirror_mode": {
    "name": "ipython",
    "version": 3
   },
   "file_extension": ".py",
   "mimetype": "text/x-python",
   "name": "python",
   "nbconvert_exporter": "python",
   "pygments_lexer": "ipython3",
   "version": "3.11.5"
  },
  "orig_nbformat": 4
 },
 "nbformat": 4,
 "nbformat_minor": 2
}
